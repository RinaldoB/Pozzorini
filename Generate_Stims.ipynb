{
 "cells": [
  {
   "cell_type": "markdown",
   "metadata": {},
   "source": [
    "-[test](#test) "
   ]
  },
  {
   "cell_type": "code",
   "execution_count": 1,
   "metadata": {
    "collapsed": false,
    "scrolled": true
   },
   "outputs": [
    {
     "name": "stdout",
     "output_type": "stream",
     "text": [
      "Populating the interactive namespace from numpy and matplotlib\n"
     ]
    },
    {
     "name": "stderr",
     "output_type": "stream",
     "text": [
      "//anaconda/lib/python2.7/site-packages/matplotlib/font_manager.py:273: UserWarning: Matplotlib is building the font cache using fc-list. This may take a moment.\n",
      "  warnings.warn('Matplotlib is building the font cache using fc-list. This may take a moment.')\n"
     ]
    }
   ],
   "source": [
    "%pylab inline"
   ]
  },
  {
   "cell_type": "code",
   "execution_count": 2,
   "metadata": {
    "collapsed": false
   },
   "outputs": [],
   "source": [
    "from __future__ import division"
   ]
  },
  {
   "cell_type": "code",
   "execution_count": 3,
   "metadata": {
    "collapsed": false,
    "scrolled": true
   },
   "outputs": [],
   "source": [
    "def TestPlot(T,I_0,sigma,SamplingFreq):\n",
    "    T=1; dt = 1/20000.\n",
    "    I = OU_current(T, I_0, sigma, 1/SamplingFreq)\n",
    "    plt.plot(np.linspace(0,T,1/dt),I)\n",
    "    print 'Mean Current:', I.mean(), 'mV','Standard Deviaton:' , I.std(),'mV' #okay"
   ]
  },
  {
   "cell_type": "code",
   "execution_count": 4,
   "metadata": {
    "collapsed": false
   },
   "outputs": [],
   "source": [
    "def save_stim(T, I_0, sigma, tau, sampling_freq):\n",
    "    filename = 'I_noise_I0_{}pA_sigma_{}pA.tpl'.format(I_0,sigma)\n",
    "    I = OU_current(T=T, I_0=I_0, sigma=sigma, tau=tau, sampling_freq=sampling_freq) #in pA\n",
    "\n",
    "    #get the command voltage (convert the current in pA to mV) \n",
    "    I_mV = 1e-3*I\n",
    "\n",
    "    # store the values in pA to a binary file\n",
    "    (I_mV).astype('f4').tofile(filename)\n",
    "    "
   ]
  },
  {
   "cell_type": "code",
   "execution_count": 15,
   "metadata": {
    "collapsed": false
   },
   "outputs": [],
   "source": [
    "def OU_current(T,I_0=0,sigma=1,tau=0.003, sampling_freq=20000.):\n",
    "    '''\n",
    "    T : gives the simulation time in seconds\n",
    "    other parameters as in Pozzorini et al 2015\n",
    "    '''\n",
    "    DeltaT = 1/sampling_freq\n",
    "    def DeltaI(I):\n",
    "\n",
    "        return (I_0-I)*DeltaT/tau + np.sqrt(2*sigma**2*DeltaT/tau)*randn()\n",
    "    \n",
    "    I = np.zeros(int(T/DeltaT))\n",
    "    I[0] = I_0 #set the initial value to the mean input\n",
    "    \n",
    "    for i in xrange(1,len(I)):\n",
    "        I[i] = I[i-1]+DeltaI(I[i-1])\n",
    "        \n",
    "    return I\n"
   ]
  },
  {
   "cell_type": "markdown",
   "metadata": {},
   "source": [
    "# test "
   ]
  },
  {
   "cell_type": "markdown",
   "metadata": {},
   "source": [
    "### Welcome to the Noise Stimulus Generator Notebook"
   ]
  },
  {
   "cell_type": "markdown",
   "metadata": {},
   "source": [
    "The following parameters are taken as inputs:\n",
    "\n",
    "$T$ - the length of the stimulus in seconds\n",
    "\n",
    "$I_{0}$ - the mean input current in pA\n",
    "\n",
    "$\\sigma $ - the standard deviation of the input current in pA\n",
    "\n",
    "$f$ - the sampling frequency in kHz\n",
    "\n",
    "The notebook outputs:\n",
    "\n",
    "- a plot of the noise stimulus\n",
    "\n",
    "- a binary stimulus file\n",
    "\n"
   ]
  },
  {
   "cell_type": "markdown",
   "metadata": {},
   "source": [
    "#### Please enter the input parameters below:"
   ]
  },
  {
   "cell_type": "code",
   "execution_count": 17,
   "metadata": {
    "collapsed": false
   },
   "outputs": [],
   "source": [
    "# Run this cell to save the stimulus file with given parameters\n",
    "\n",
    "\n",
    "I_0 = 400 #mean input current (pA)\n",
    "\n",
    "T = 10 #length of stimulus required (s)\n",
    "\n",
    "sigma = 100 #standard deviation (pA)\n",
    "\n",
    "SamplingFreq = 20000 # sampling frequency (kHz)\n",
    "\n",
    "tau = 3 #time constant (ms)\n",
    "\n",
    "save_stim(T,I_0,sigma,tau,SamplingFreq)"
   ]
  },
  {
   "cell_type": "markdown",
   "metadata": {},
   "source": [
    "Export stimulation current to TPL file (patchmaster)\n",
    ">Template Files for stimulation can be used in Voltage Clamp and in Current Clamp mode. In Current Clamp\n",
    "mode, the stimulation data is defined in volts, where 1 mV corresponds with 1 pA current injection.\n",
    "Example: A value of 0.1 would result in a current injection of 100 pA."
   ]
  },
  {
   "cell_type": "code",
   "execution_count": null,
   "metadata": {
    "collapsed": true
   },
   "outputs": [],
   "source": []
  }
 ],
 "metadata": {
  "kernelspec": {
   "display_name": "Python 2",
   "language": "python",
   "name": "python2"
  },
  "language_info": {
   "codemirror_mode": {
    "name": "ipython",
    "version": 2
   },
   "file_extension": ".py",
   "mimetype": "text/x-python",
   "name": "python",
   "nbconvert_exporter": "python",
   "pygments_lexer": "ipython2",
   "version": "2.7.11"
  }
 },
 "nbformat": 4,
 "nbformat_minor": 0
}
