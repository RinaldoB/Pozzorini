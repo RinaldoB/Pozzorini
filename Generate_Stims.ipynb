{
 "cells": [
  {
   "cell_type": "markdown",
   "metadata": {},
   "source": [
    "-[test](#test) "
   ]
  },
  {
   "cell_type": "code",
   "execution_count": 80,
   "metadata": {
    "collapsed": false,
    "scrolled": true
   },
   "outputs": [
    {
     "name": "stdout",
     "output_type": "stream",
     "text": [
      "Populating the interactive namespace from numpy and matplotlib\n"
     ]
    }
   ],
   "source": [
    "%pylab inline"
   ]
  },
  {
   "cell_type": "code",
   "execution_count": 81,
   "metadata": {
    "collapsed": false
   },
   "outputs": [],
   "source": [
    "from __future__ import division\n",
    "import hashlib"
   ]
  },
  {
   "cell_type": "code",
   "execution_count": 100,
   "metadata": {
    "collapsed": false,
    "scrolled": true
   },
   "outputs": [],
   "source": [
    "def TestPlot(T, I_0, sigma, tau_ms, sampling_freq):\n",
    "    \"\"\"\n",
    "    ToDo:\n",
    "    \"\"\"\n",
    "    \n",
    "    I = OU_current(T=T, I_0=I_0, sigma=sigma, tau=tau_ms*1e-3, sampling_freq=sampling_freq)\n",
    "    \n",
    "    plt.plot(np.linspace(0,T,sampling_freq*T),I)\n",
    "    print 'Mean Current:', I.mean(), 'pA','Standard Deviaton:' , I.std(),'pA' #okay\n",
    "    xlabel('Time [s]')\n",
    "    ylabel('I [pA]')\n"
   ]
  },
  {
   "cell_type": "code",
   "execution_count": 106,
   "metadata": {
    "collapsed": false
   },
   "outputs": [],
   "source": [
    "def save_stim(T, I_0, sigma, tau_ms, sampling_freq):\n",
    "    \n",
    "    filename = 'I_noise_I0_{}pA_sigma_{}pA_T{}s.'.format(I_0,sigma,T)\n",
    "    I = OU_current(T=T, I_0=I_0, sigma=sigma, tau=tau_ms*1e-3, sampling_freq=sampling_freq) #in pA\n",
    "\n",
    "    #get the command voltage (convert the current in pA to mV) \n",
    "    I_mV = 1e-3*I\n",
    "    \n",
    "    filename += hashlib.md5(I_mV).hexdigest()\n",
    "    filename += '.tpl'\n",
    "    print filename\n",
    "    # store the values in pA to a binary file\n",
    "    (I_mV).astype('f4').tofile(filename)"
   ]
  },
  {
   "cell_type": "code",
   "execution_count": 102,
   "metadata": {
    "collapsed": false
   },
   "outputs": [],
   "source": [
    "def OU_current(T,I_0=0,sigma=1,tau=0.003, sampling_freq=20000.):\n",
    "    '''\n",
    "    T : gives the simulation time in seconds\n",
    "    other parameters as in Pozzorini et al 2015\n",
    "    '''\n",
    "    DeltaT = 1/sampling_freq\n",
    "    def DeltaI(I):\n",
    "\n",
    "        return (I_0-I)*DeltaT/tau + np.sqrt(2*sigma**2*DeltaT/tau)*randn()\n",
    "    \n",
    "    I = np.zeros(int(T/DeltaT))\n",
    "    I[0] = I_0 #set the initial value to the mean input\n",
    "    \n",
    "    for i in xrange(1,len(I)):\n",
    "        I[i] = I[i-1]+DeltaI(I[i-1])\n",
    "        \n",
    "    return I\n"
   ]
  },
  {
   "cell_type": "markdown",
   "metadata": {},
   "source": [
    "# test "
   ]
  },
  {
   "cell_type": "markdown",
   "metadata": {},
   "source": [
    "### Welcome to the Noise Stimulus Generator Notebook"
   ]
  },
  {
   "cell_type": "markdown",
   "metadata": {},
   "source": [
    "The following parameters are taken as inputs:\n",
    "\n",
    "$T$ - the length of the stimulus in seconds\n",
    "\n",
    "$I_{0}$ - the mean input current in pA\n",
    "\n",
    "$\\sigma $ - the standard deviation of the input current in pA\n",
    "\n",
    "$f$ - the sampling frequency in kHz\n",
    "\n",
    "The notebook outputs:\n",
    "\n",
    "- a plot of the noise stimulus\n",
    "\n",
    "- a binary stimulus file\n",
    "\n"
   ]
  },
  {
   "cell_type": "markdown",
   "metadata": {},
   "source": [
    "#### Please enter the input parameters below:"
   ]
  },
  {
   "cell_type": "code",
   "execution_count": 117,
   "metadata": {
    "collapsed": false
   },
   "outputs": [
    {
     "name": "stdout",
     "output_type": "stream",
     "text": [
      "I_noise_I0_500pA_sigma_100pA_T10s.c3e3697781cb8754d72f2c5a627b5e79.tpl\n"
     ]
    }
   ],
   "source": [
    "# Run this cell to save the stimulus file with given parameters\n",
    "\n",
    "\n",
    "I_0 = 500 #mean input current (pA)\n",
    "\n",
    "T = 10 #length of stimulus required (s)\n",
    "\n",
    "sigma = 100 #standard deviation (pA)\n",
    "\n",
    "SamplingFreq = 20000 # sampling frequency (kHz)\n",
    "\n",
    "tau = 3 #time constant (ms)\n",
    "\n",
    "save_stim(T,I_0,sigma,tau,SamplingFreq)"
   ]
  },
  {
   "cell_type": "code",
   "execution_count": 104,
   "metadata": {
    "collapsed": false
   },
   "outputs": [
    {
     "name": "stdout",
     "output_type": "stream",
     "text": [
      "Mean Current: 497.18977045 pA Standard Deviaton: 101.811486581 pA\n"
     ]
    },
    {
     "data": {
      "image/png": "[encoded data removed]",
      "text/plain": [
       "<matplotlib.figure.Figure at 0x7f6340be26d0>"
      ]
     },
     "metadata": {},
     "output_type": "display_data"
    }
   ],
   "source": [
    "TestPlot(T,I_0,sigma,tau,SamplingFreq)\n"
   ]
  },
  {
   "cell_type": "markdown",
   "metadata": {},
   "source": [
    "Export stimulation current to TPL file (patchmaster)\n",
    ">Template Files for stimulation can be used in Voltage Clamp and in Current Clamp mode. In Current Clamp\n",
    "mode, the stimulation data is defined in volts, where 1 mV corresponds with 1 pA current injection.\n",
    "Example: A value of 0.1 would result in a current injection of 100 pA."
   ]
  },
  {
   "cell_type": "code",
   "execution_count": 109,
   "metadata": {
    "collapsed": false
   },
   "outputs": [
    {
     "name": "stdout",
     "output_type": "stream",
     "text": [
      "mean=501.38pA, sigma=102.01pA\n"
     ]
    }
   ],
   "source": [
    "#test the files\n",
    "filename= 'I_noise_I0_500pA_sigma_100pA_T10s.fb91109837e9befc596aad99ebf2dd53.tpl'\n",
    "\n",
    "\n",
    "A = fromfile(filename, dtype='f4')*1e3\n",
    "\n",
    "print \"mean={}pA, sigma={}pA\".format(round(A.mean(),2), round(A.std(),2))"
   ]
  },
  {
   "cell_type": "code",
   "execution_count": 110,
   "metadata": {
    "collapsed": false
   },
   "outputs": [
    {
     "ename": "NameError",
     "evalue": "name 'md5sum' is not defined",
     "output_type": "error",
     "traceback": [
      "\u001b[1;31m---------------------------------------------------------------------------\u001b[0m",
      "\u001b[1;31mNameError\u001b[0m                                 Traceback (most recent call last)",
      "\u001b[1;32m<ipython-input-110-e65b0dce58cb>\u001b[0m in \u001b[0;36m<module>\u001b[1;34m()\u001b[0m\n\u001b[1;32m----> 1\u001b[1;33m \u001b[0mmd5sum\u001b[0m\u001b[1;33m\u001b[0m\u001b[0m\n\u001b[0m",
      "\u001b[1;31mNameError\u001b[0m: name 'md5sum' is not defined"
     ]
    }
   ],
   "source": [
    "md5sum"
   ]
  },
  {
   "cell_type": "code",
   "execution_count": null,
   "metadata": {
    "collapsed": true
   },
   "outputs": [],
   "source": []
  }
 ],
 "metadata": {
  "kernelspec": {
   "display_name": "Python 2",
   "language": "python",
   "name": "python2"
  },
  "language_info": {
   "codemirror_mode": {
    "name": "ipython",
    "version": 2
   },
   "file_extension": ".py",
   "mimetype": "text/x-python",
   "name": "python",
   "nbconvert_exporter": "python",
   "pygments_lexer": "ipython2",
   "version": "2.7.11"
  }
 },
 "nbformat": 4,
 "nbformat_minor": 0
}
