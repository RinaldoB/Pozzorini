{
 "cells": [
  {
   "cell_type": "markdown",
   "metadata": {},
   "source": [
    "-[test](#test) "
   ]
  },
  {
   "cell_type": "code",
   "execution_count": 30,
   "metadata": {
    "collapsed": false,
    "scrolled": true
   },
   "outputs": [
    {
     "name": "stdout",
     "output_type": "stream",
     "text": [
      "Populating the interactive namespace from numpy and matplotlib\n"
     ]
    }
   ],
   "source": [
    "%pylab inline"
   ]
  },
  {
   "cell_type": "code",
   "execution_count": 31,
   "metadata": {
    "collapsed": false
   },
   "outputs": [],
   "source": [
    "from __future__ import division"
   ]
  },
  {
   "cell_type": "code",
   "execution_count": 44,
   "metadata": {
    "collapsed": false,
    "scrolled": true
   },
   "outputs": [],
   "source": [
    "def TestPlot(T,I_0,sigma,SamplingFreq):\n",
    "    \"\"\"\n",
    "    ToDo:\n",
    "    - add tau as parameter\n",
    "    - label x and y\n",
    "    \"\"\"\n",
    "    T=1; dt = 1/20000.\n",
    "    I = OU_current(T, I_0, sigma, 1/SamplingFreq)\n",
    "    plt.plot(np.linspace(0,T,1/dt),I)\n",
    "    print 'Mean Current:', I.mean(), 'mV','Standard Deviaton:' , I.std(),'mV' #okay"
   ]
  },
  {
   "cell_type": "code",
   "execution_count": 33,
   "metadata": {
    "collapsed": false
   },
   "outputs": [],
   "source": [
    "def save_stim(T, I_0, sigma, tau, sampling_freq):\n",
    "    import hashlib\n",
    "    \n",
    "    filename = 'I_noise_I0_{}pA_sigma_{}pA.'.format(I_0,sigma)\n",
    "    I = OU_current(T=T, I_0=I_0, sigma=sigma, tau=tau, sampling_freq=sampling_freq) #in pA\n",
    "\n",
    "    #get the command voltage (convert the current in pA to mV) \n",
    "    I_mV = 1e-3*I\n",
    "    \n",
    "    filename += hashlib.md5(I_mV).hexdigest()\n",
    "    filename += '.tpl'\n",
    "    print filename\n",
    "    # store the values in pA to a binary file\n",
    "    (I_mV).astype('f4').tofile(filename)"
   ]
  },
  {
   "cell_type": "code",
   "execution_count": 34,
   "metadata": {
    "collapsed": false
   },
   "outputs": [],
   "source": [
    "def OU_current(T,I_0=0,sigma=1,tau=0.003, sampling_freq=20000.):\n",
    "    '''\n",
    "    T : gives the simulation time in seconds\n",
    "    other parameters as in Pozzorini et al 2015\n",
    "    '''\n",
    "    DeltaT = 1/sampling_freq\n",
    "    def DeltaI(I):\n",
    "\n",
    "        return (I_0-I)*DeltaT/tau + np.sqrt(2*sigma**2*DeltaT/tau)*randn()\n",
    "    \n",
    "    I = np.zeros(int(T/DeltaT))\n",
    "    I[0] = I_0 #set the initial value to the mean input\n",
    "    \n",
    "    for i in xrange(1,len(I)):\n",
    "        I[i] = I[i-1]+DeltaI(I[i-1])\n",
    "        \n",
    "    return I\n"
   ]
  },
  {
   "cell_type": "markdown",
   "metadata": {},
   "source": [
    "# test "
   ]
  },
  {
   "cell_type": "markdown",
   "metadata": {},
   "source": [
    "### Welcome to the Noise Stimulus Generator Notebook"
   ]
  },
  {
   "cell_type": "markdown",
   "metadata": {},
   "source": [
    "The following parameters are taken as inputs:\n",
    "\n",
    "$T$ - the length of the stimulus in seconds\n",
    "\n",
    "$I_{0}$ - the mean input current in pA\n",
    "\n",
    "$\\sigma $ - the standard deviation of the input current in pA\n",
    "\n",
    "$f$ - the sampling frequency in kHz\n",
    "\n",
    "The notebook outputs:\n",
    "\n",
    "- a plot of the noise stimulus\n",
    "\n",
    "- a binary stimulus file\n",
    "\n"
   ]
  },
  {
   "cell_type": "markdown",
   "metadata": {},
   "source": [
    "#### Please enter the input parameters below:"
   ]
  },
  {
   "cell_type": "code",
   "execution_count": 45,
   "metadata": {
    "collapsed": false
   },
   "outputs": [
    {
     "name": "stdout",
     "output_type": "stream",
     "text": [
      "I_noise_I0_500pA_sigma_100pA.affbcb3bf7a19b0d021fa088ce2a6bf4.tpl\n"
     ]
    }
   ],
   "source": [
    "# Run this cell to save the stimulus file with given parameters\n",
    "\n",
    "\n",
    "I_0 = 500 #mean input current (pA)\n",
    "\n",
    "T = 100 #length of stimulus required (s)\n",
    "\n",
    "sigma = 100 #standard deviation (pA)\n",
    "\n",
    "SamplingFreq = 20000 # sampling frequency (kHz)\n",
    "\n",
    "tau = 3 #time constant (ms)\n",
    "\n",
    "#save_stim(T,I_0,sigma,tau,SamplingFreq)"
   ]
  },
  {
   "cell_type": "code",
   "execution_count": 46,
   "metadata": {
    "collapsed": false
   },
   "outputs": [
    {
     "name": "stdout",
     "output_type": "stream",
     "text": [
      "Mean Current: 498.496725198 mV Standard Deviaton: 140.998173069 mV\n"
     ]
    },
    {
     "data": {
      "image/png": "[encoded data removed]",
      "text/plain": [
       "<matplotlib.figure.Figure at 0x7f63405fac10>"
      ]
     },
     "metadata": {},
     "output_type": "display_data"
    }
   ],
   "source": [
    "TestPlot(T,I_0,sigma,SamplingFreq)"
   ]
  },
  {
   "cell_type": "markdown",
   "metadata": {},
   "source": [
    "Export stimulation current to TPL file (patchmaster)\n",
    ">Template Files for stimulation can be used in Voltage Clamp and in Current Clamp mode. In Current Clamp\n",
    "mode, the stimulation data is defined in volts, where 1 mV corresponds with 1 pA current injection.\n",
    "Example: A value of 0.1 would result in a current injection of 100 pA."
   ]
  },
  {
   "cell_type": "code",
   "execution_count": null,
   "metadata": {
    "collapsed": true
   },
   "outputs": [],
   "source": [
    "#test the files"
   ]
  }
 ],
 "metadata": {
  "kernelspec": {
   "display_name": "Python 2",
   "language": "python",
   "name": "python2"
  },
  "language_info": {
   "codemirror_mode": {
    "name": "ipython",
    "version": 2
   },
   "file_extension": ".py",
   "mimetype": "text/x-python",
   "name": "python",
   "nbconvert_exporter": "python",
   "pygments_lexer": "ipython2",
   "version": "2.7.11"
  }
 },
 "nbformat": 4,
 "nbformat_minor": 0
}
