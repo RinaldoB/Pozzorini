{
 "cells": [
  {
   "cell_type": "markdown",
   "metadata": {},
   "source": [
    "# Welcome to the Noise Stimulus Generator Notebook"
   ]
  },
  {
   "cell_type": "markdown",
   "metadata": {},
   "source": [
    "The following parameters are taken as inputs:\n",
    "\n",
    "- $T$ - the length of the stimulus in seconds\n",
    "- $I_{0}$ - the mean input current in pA\n",
    "- $\\sigma $ - the standard deviation of the input current in pA\n",
    "- $\\tau$ - time constant in seconds\n",
    "\n",
    "- $f$ - the sampling frequency in kHz\n",
    "\n",
    "Input the parameters in the cell below and then choose `'Cell->Run All'` from the menu above to generate the file."
   ]
  },
  {
   "cell_type": "code",
   "execution_count": null,
   "metadata": {
    "collapsed": true
   },
   "outputs": [],
   "source": [
    "# Parameters for stimulus file generation\n",
    "\n",
    "T = 10 #length of stimulus required (s)\n",
    "\n",
    "I_0 = 500 #mean input current (pA)\n",
    "\n",
    "sigma = 100 #standard deviation (pA)\n",
    "\n",
    "tau = 0.003 #time constant (s)\n",
    "\n",
    "sampling_freq = 20000 # sampling frequency (kHz)"
   ]
  },
  {
   "cell_type": "markdown",
   "metadata": {},
   "source": [
    "Export stimulation current to TPL file (patchmaster)\n",
    ">Template Files for stimulation can be used in Voltage Clamp and in Current Clamp mode. In Current Clamp\n",
    "mode, the stimulation data is defined in volts, where 1 mV corresponds with 1 pA current injection.\n",
    "Example: A value of 0.1 would result in a current injection of 100 pA."
   ]
  },
  {
   "cell_type": "code",
   "execution_count": null,
   "metadata": {
    "collapsed": false,
    "scrolled": true
   },
   "outputs": [],
   "source": [
    "%pylab inline\n",
    "from Generate_Stims import *"
   ]
  },
  {
   "cell_type": "markdown",
   "metadata": {},
   "source": [
    "## Generate, save and view stimulus "
   ]
  },
  {
   "cell_type": "code",
   "execution_count": null,
   "metadata": {
    "collapsed": false
   },
   "outputs": [],
   "source": [
    "I = save_stim(T,I_0,sigma,tau,sampling_freq)"
   ]
  },
  {
   "cell_type": "code",
   "execution_count": null,
   "metadata": {
    "collapsed": false,
    "scrolled": true
   },
   "outputs": [],
   "source": [
    "time = linspace(0,T,sampling_freq*T)\n",
    "plot(time,I)\n",
    "xlabel('Time [s]')\n",
    "ylabel('I [pA]')\n",
    "\n",
    "title('Mean Current: {:.1f}pA Standard Deviaton: {:.1f}pA'.format(I.mean(), I.std()));"
   ]
  }
 ],
 "metadata": {
  "kernelspec": {
   "display_name": "Python 2",
   "language": "python",
   "name": "python2"
  },
  "language_info": {
   "codemirror_mode": {
    "name": "ipython",
    "version": 2
   },
   "file_extension": ".py",
   "mimetype": "text/x-python",
   "name": "python",
   "nbconvert_exporter": "python",
   "pygments_lexer": "ipython2",
   "version": "2.7.11"
  }
 },
 "nbformat": 4,
 "nbformat_minor": 0
}
