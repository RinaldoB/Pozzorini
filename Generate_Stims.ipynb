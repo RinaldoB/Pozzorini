{
 "cells": [
  {
   "cell_type": "markdown",
   "metadata": {},
   "source": [
    "### Welcome to the Noise Stimulus Generator Notebook"
   ]
  },
  {
   "cell_type": "markdown",
   "metadata": {},
   "source": [
    "# ToDO: time constant"
   ]
  },
  {
   "cell_type": "markdown",
   "metadata": {},
   "source": [
    "The following parameters are taken as inputs:\n",
    "\n",
    "- $T$ - the length of the stimulus in seconds\n",
    "- $I_{0}$ - the mean input current in pA\n",
    "- $\\sigma $ - the standard deviation of the input current in pA\n",
    "- $f$ - the sampling frequency in kHz\n",
    "\n",
    "Input the parameters in the cell below and then choose `'Cell->Run All'` from the menu above to generate the file."
   ]
  },
  {
   "cell_type": "code",
   "execution_count": null,
   "metadata": {
    "collapsed": true
   },
   "outputs": [],
   "source": [
    "# Parameters for stimulus file generation\n",
    "\n",
    "T = 10 #length of stimulus required (s)\n",
    "\n",
    "I_0 = 500 #mean input current (pA)\n",
    "\n",
    "sigma = 100 #standard deviation (pA)\n",
    "\n",
    "sampling_freq = 20000 # sampling frequency (kHz)\n",
    "\n",
    "tau = 0.003 #time constant (s)"
   ]
  },
  {
   "cell_type": "markdown",
   "metadata": {},
   "source": [
    "Export stimulation current to TPL file (patchmaster)\n",
    ">Template Files for stimulation can be used in Voltage Clamp and in Current Clamp mode. In Current Clamp\n",
    "mode, the stimulation data is defined in volts, where 1 mV corresponds with 1 pA current injection.\n",
    "Example: A value of 0.1 would result in a current injection of 100 pA."
   ]
  },
  {
   "cell_type": "code",
   "execution_count": null,
   "metadata": {
    "collapsed": false,
    "scrolled": true
   },
   "outputs": [],
   "source": [
    "%pylab inline"
   ]
  },
  {
   "cell_type": "code",
   "execution_count": null,
   "metadata": {
    "collapsed": false
   },
   "outputs": [],
   "source": [
    "from __future__ import division\n",
    "import hashlib"
   ]
  },
  {
   "cell_type": "code",
   "execution_count": null,
   "metadata": {
    "collapsed": false,
    "scrolled": true
   },
   "outputs": [],
   "source": [
    "def OU_current(T, I_0,sigma, tau, sampling_freq=20000.):\n",
    "    '''\n",
    "    T : gives the simulation time in seconds\n",
    "    other parameters as in Pozzorini et al 2015\n",
    "    TODO: write docstring (params, etc)\n",
    "    '''\n",
    "    DeltaT = 1/sampling_freq\n",
    "    \n",
    "    def DeltaI(I):\n",
    "        return (I_0-I)*DeltaT/tau + np.sqrt(2*sigma**2*DeltaT/tau)*randn()\n",
    "    \n",
    "    I = np.zeros(int(T/DeltaT))\n",
    "    I[0] = I_0 #set the initial value to the mean input\n",
    "    \n",
    "    for i in xrange(1,len(I)):\n",
    "        I[i] = I[i-1] + DeltaI(I[i-1])\n",
    "        \n",
    "    return I\n",
    "\n",
    "\n",
    "def save_stim(T, I_0,sigma, tau, sampling_freq=20000.):\n",
    "\n",
    "    I = OU_current(T, I_0,sigma, tau, sampling_freq=20000.) #in pA\n",
    "\n",
    "    #get the command voltage () \n",
    "    I_mV = 1e-3*I            #convert the current in pA to mV\n",
    "    I_mV = I_mV.astype('f4') #4 byte float format\n",
    "    \n",
    "    filename = 'I_noise_I0_{}pA_sigma_{}pA_T{}s.'.format(I_0,sigma,T)\n",
    "    filename += hashlib.md5(I_mV).hexdigest()\n",
    "    filename += '.tpl'\n",
    "    \n",
    "    # store the values in pA to a binary file\n",
    "    I_mV.tofile(filename)\n",
    "    \n",
    "    print filename, 'File Saved!'\n",
    "    \n",
    "    return I"
   ]
  },
  {
   "cell_type": "markdown",
   "metadata": {},
   "source": [
    "### Generate, save and view stimulus "
   ]
  },
  {
   "cell_type": "code",
   "execution_count": null,
   "metadata": {
    "collapsed": false
   },
   "outputs": [],
   "source": [
    "I = save_stim(T,I_0,sigma,tau,sampling_freq)\n",
    "\n",
    "time = linspace(0,T,sampling_freq*T)\n",
    "plot(time,I)\n",
    "xlabel('Time [s]')\n",
    "ylabel('I [pA]')\n",
    "\n",
    "title('Mean Current: {:.1f}pA Standard Deviaton: {:.1f}pA'.format(I.mean(), I.std()))"
   ]
  }
 ],
 "metadata": {
  "kernelspec": {
   "display_name": "Python 2",
   "language": "python",
   "name": "python2"
  },
  "language_info": {
   "codemirror_mode": {
    "name": "ipython",
    "version": 2
   },
   "file_extension": ".py",
   "mimetype": "text/x-python",
   "name": "python",
   "nbconvert_exporter": "python",
   "pygments_lexer": "ipython2",
   "version": "2.7.11"
  }
 },
 "nbformat": 4,
 "nbformat_minor": 0
}
